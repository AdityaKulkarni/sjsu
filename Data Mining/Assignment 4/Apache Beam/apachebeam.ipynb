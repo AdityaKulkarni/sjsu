{
  "nbformat": 4,
  "nbformat_minor": 0,
  "metadata": {
    "colab": {
      "provenance": [],
      "gpuType": "T4"
    },
    "kernelspec": {
      "name": "python3",
      "display_name": "Python 3"
    },
    "language_info": {
      "name": "python"
    },
    "accelerator": "GPU"
  },
  "cells": [
    {
      "cell_type": "markdown",
      "source": [
        "# Netflix Dataset"
      ],
      "metadata": {
        "id": "_8UrffzhP3W3"
      }
    },
    {
      "cell_type": "code",
      "execution_count": null,
      "metadata": {
        "id": "BhtwCZ8VJusF",
        "colab": {
          "base_uri": "https://localhost:8080/"
        },
        "outputId": "a72eaf8c-91c4-48a1-a942-ed4e67942249"
      },
      "outputs": [
        {
          "output_type": "stream",
          "name": "stdout",
          "text": [
            "Collecting apache_beam\n",
            "  Downloading apache_beam-2.51.0-cp310-cp310-manylinux_2_17_x86_64.manylinux2014_x86_64.whl (14.7 MB)\n",
            "\u001b[2K     \u001b[90m━━━━━━━━━━━━━━━━━━━━━━━━━━━━━━━━━━━━━━━━\u001b[0m \u001b[32m14.7/14.7 MB\u001b[0m \u001b[31m47.9 MB/s\u001b[0m eta \u001b[36m0:00:00\u001b[0m\n",
            "\u001b[?25hCollecting crcmod<2.0,>=1.7 (from apache_beam)\n",
            "  Downloading crcmod-1.7.tar.gz (89 kB)\n",
            "\u001b[2K     \u001b[90m━━━━━━━━━━━━━━━━━━━━━━━━━━━━━━━━━━━━━━━━\u001b[0m \u001b[32m89.7/89.7 kB\u001b[0m \u001b[31m12.5 MB/s\u001b[0m eta \u001b[36m0:00:00\u001b[0m\n",
            "\u001b[?25h  Preparing metadata (setup.py) ... \u001b[?25l\u001b[?25hdone\n",
            "Collecting orjson<4,>=3.9.7 (from apache_beam)\n",
            "  Downloading orjson-3.9.9-cp310-cp310-manylinux_2_17_x86_64.manylinux2014_x86_64.whl (138 kB)\n",
            "\u001b[2K     \u001b[90m━━━━━━━━━━━━━━━━━━━━━━━━━━━━━━━━━━━━━━━━\u001b[0m \u001b[32m138.7/138.7 kB\u001b[0m \u001b[31m20.3 MB/s\u001b[0m eta \u001b[36m0:00:00\u001b[0m\n",
            "\u001b[?25hCollecting dill<0.3.2,>=0.3.1.1 (from apache_beam)\n",
            "  Downloading dill-0.3.1.1.tar.gz (151 kB)\n",
            "\u001b[2K     \u001b[90m━━━━━━━━━━━━━━━━━━━━━━━━━━━━━━━━━━━━━━━━\u001b[0m \u001b[32m152.0/152.0 kB\u001b[0m \u001b[31m22.7 MB/s\u001b[0m eta \u001b[36m0:00:00\u001b[0m\n",
            "\u001b[?25h  Preparing metadata (setup.py) ... \u001b[?25l\u001b[?25hdone\n",
            "Requirement already satisfied: cloudpickle~=2.2.1 in /usr/local/lib/python3.10/dist-packages (from apache_beam) (2.2.1)\n",
            "Collecting fastavro<2,>=0.23.6 (from apache_beam)\n",
            "  Downloading fastavro-1.8.4-cp310-cp310-manylinux_2_17_x86_64.manylinux2014_x86_64.whl (3.0 MB)\n",
            "\u001b[2K     \u001b[90m━━━━━━━━━━━━━━━━━━━━━━━━━━━━━━━━━━━━━━━━\u001b[0m \u001b[32m3.0/3.0 MB\u001b[0m \u001b[31m73.2 MB/s\u001b[0m eta \u001b[36m0:00:00\u001b[0m\n",
            "\u001b[?25hCollecting fasteners<1.0,>=0.3 (from apache_beam)\n",
            "  Downloading fasteners-0.19-py3-none-any.whl (18 kB)\n",
            "Requirement already satisfied: grpcio!=1.48.0,<2,>=1.33.1 in /usr/local/lib/python3.10/dist-packages (from apache_beam) (1.59.0)\n",
            "Collecting hdfs<3.0.0,>=2.1.0 (from apache_beam)\n",
            "  Downloading hdfs-2.7.3.tar.gz (43 kB)\n",
            "\u001b[2K     \u001b[90m━━━━━━━━━━━━━━━━━━━━━━━━━━━━━━━━━━━━━━━━\u001b[0m \u001b[32m43.5/43.5 kB\u001b[0m \u001b[31m6.5 MB/s\u001b[0m eta \u001b[36m0:00:00\u001b[0m\n",
            "\u001b[?25h  Preparing metadata (setup.py) ... \u001b[?25l\u001b[?25hdone\n",
            "Requirement already satisfied: httplib2<0.23.0,>=0.8 in /usr/local/lib/python3.10/dist-packages (from apache_beam) (0.22.0)\n",
            "Collecting js2py<1,>=0.74 (from apache_beam)\n",
            "  Downloading Js2Py-0.74-py3-none-any.whl (1.0 MB)\n",
            "\u001b[2K     \u001b[90m━━━━━━━━━━━━━━━━━━━━━━━━━━━━━━━━━━━━━━━━\u001b[0m \u001b[32m1.0/1.0 MB\u001b[0m \u001b[31m64.5 MB/s\u001b[0m eta \u001b[36m0:00:00\u001b[0m\n",
            "\u001b[?25hRequirement already satisfied: numpy<1.25.0,>=1.14.3 in /usr/local/lib/python3.10/dist-packages (from apache_beam) (1.23.5)\n",
            "Collecting objsize<0.7.0,>=0.6.1 (from apache_beam)\n",
            "  Downloading objsize-0.6.1-py3-none-any.whl (9.3 kB)\n",
            "Requirement already satisfied: packaging>=22.0 in /usr/local/lib/python3.10/dist-packages (from apache_beam) (23.2)\n",
            "Collecting pymongo<5.0.0,>=3.8.0 (from apache_beam)\n",
            "  Downloading pymongo-4.5.0-cp310-cp310-manylinux_2_17_x86_64.manylinux2014_x86_64.whl (671 kB)\n",
            "\u001b[2K     \u001b[90m━━━━━━━━━━━━━━━━━━━━━━━━━━━━━━━━━━━━━━━━\u001b[0m \u001b[32m671.3/671.3 kB\u001b[0m \u001b[31m42.1 MB/s\u001b[0m eta \u001b[36m0:00:00\u001b[0m\n",
            "\u001b[?25hRequirement already satisfied: proto-plus<2,>=1.7.1 in /usr/local/lib/python3.10/dist-packages (from apache_beam) (1.22.3)\n",
            "Requirement already satisfied: protobuf!=4.0.*,!=4.21.*,!=4.22.0,!=4.23.*,!=4.24.0,!=4.24.1,!=4.24.2,<4.25.0,>=3.20.3 in /usr/local/lib/python3.10/dist-packages (from apache_beam) (3.20.3)\n",
            "Requirement already satisfied: pydot<2,>=1.2.0 in /usr/local/lib/python3.10/dist-packages (from apache_beam) (1.4.2)\n",
            "Requirement already satisfied: python-dateutil<3,>=2.8.0 in /usr/local/lib/python3.10/dist-packages (from apache_beam) (2.8.2)\n",
            "Requirement already satisfied: pytz>=2018.3 in /usr/local/lib/python3.10/dist-packages (from apache_beam) (2023.3.post1)\n",
            "Requirement already satisfied: regex>=2020.6.8 in /usr/local/lib/python3.10/dist-packages (from apache_beam) (2023.6.3)\n",
            "Requirement already satisfied: requests<3.0.0,>=2.24.0 in /usr/local/lib/python3.10/dist-packages (from apache_beam) (2.31.0)\n",
            "Requirement already satisfied: typing-extensions>=3.7.0 in /usr/local/lib/python3.10/dist-packages (from apache_beam) (4.5.0)\n",
            "Collecting zstandard<1,>=0.18.0 (from apache_beam)\n",
            "  Downloading zstandard-0.21.0-cp310-cp310-manylinux_2_17_x86_64.manylinux2014_x86_64.whl (2.7 MB)\n",
            "\u001b[2K     \u001b[90m━━━━━━━━━━━━━━━━━━━━━━━━━━━━━━━━━━━━━━━━\u001b[0m \u001b[32m2.7/2.7 MB\u001b[0m \u001b[31m84.5 MB/s\u001b[0m eta \u001b[36m0:00:00\u001b[0m\n",
            "\u001b[?25hRequirement already satisfied: pyarrow<12.0.0,>=3.0.0 in /usr/local/lib/python3.10/dist-packages (from apache_beam) (9.0.0)\n",
            "Collecting docopt (from hdfs<3.0.0,>=2.1.0->apache_beam)\n",
            "  Downloading docopt-0.6.2.tar.gz (25 kB)\n",
            "  Preparing metadata (setup.py) ... \u001b[?25l\u001b[?25hdone\n",
            "Requirement already satisfied: six>=1.9.0 in /usr/local/lib/python3.10/dist-packages (from hdfs<3.0.0,>=2.1.0->apache_beam) (1.16.0)\n",
            "Requirement already satisfied: pyparsing!=3.0.0,!=3.0.1,!=3.0.2,!=3.0.3,<4,>=2.4.2 in /usr/local/lib/python3.10/dist-packages (from httplib2<0.23.0,>=0.8->apache_beam) (3.1.1)\n",
            "Requirement already satisfied: tzlocal>=1.2 in /usr/local/lib/python3.10/dist-packages (from js2py<1,>=0.74->apache_beam) (5.1)\n",
            "Collecting pyjsparser>=2.5.1 (from js2py<1,>=0.74->apache_beam)\n",
            "  Downloading pyjsparser-2.7.1.tar.gz (24 kB)\n",
            "  Preparing metadata (setup.py) ... \u001b[?25l\u001b[?25hdone\n",
            "Collecting dnspython<3.0.0,>=1.16.0 (from pymongo<5.0.0,>=3.8.0->apache_beam)\n",
            "  Downloading dnspython-2.4.2-py3-none-any.whl (300 kB)\n",
            "\u001b[2K     \u001b[90m━━━━━━━━━━━━━━━━━━━━━━━━━━━━━━━━━━━━━━━━\u001b[0m \u001b[32m300.4/300.4 kB\u001b[0m \u001b[31m39.6 MB/s\u001b[0m eta \u001b[36m0:00:00\u001b[0m\n",
            "\u001b[?25hRequirement already satisfied: charset-normalizer<4,>=2 in /usr/local/lib/python3.10/dist-packages (from requests<3.0.0,>=2.24.0->apache_beam) (3.3.0)\n",
            "Requirement already satisfied: idna<4,>=2.5 in /usr/local/lib/python3.10/dist-packages (from requests<3.0.0,>=2.24.0->apache_beam) (3.4)\n",
            "Requirement already satisfied: urllib3<3,>=1.21.1 in /usr/local/lib/python3.10/dist-packages (from requests<3.0.0,>=2.24.0->apache_beam) (2.0.7)\n",
            "Requirement already satisfied: certifi>=2017.4.17 in /usr/local/lib/python3.10/dist-packages (from requests<3.0.0,>=2.24.0->apache_beam) (2023.7.22)\n",
            "Building wheels for collected packages: crcmod, dill, hdfs, pyjsparser, docopt\n",
            "  Building wheel for crcmod (setup.py) ... \u001b[?25l\u001b[?25hdone\n",
            "  Created wheel for crcmod: filename=crcmod-1.7-cp310-cp310-linux_x86_64.whl size=31406 sha256=d4b1ce40c9b559a4fd56adb9d7f693dbc47b4825dad98103862f7574dd17218e\n",
            "  Stored in directory: /root/.cache/pip/wheels/85/4c/07/72215c529bd59d67e3dac29711d7aba1b692f543c808ba9e86\n",
            "  Building wheel for dill (setup.py) ... \u001b[?25l\u001b[?25hdone\n",
            "  Created wheel for dill: filename=dill-0.3.1.1-py3-none-any.whl size=78542 sha256=26cf1cb5a73a53ee7755793964f5206b40fd20702660fa4bdfed672f1b94215b\n",
            "  Stored in directory: /root/.cache/pip/wheels/ea/e2/86/64980d90e297e7bf2ce588c2b96e818f5399c515c4bb8a7e4f\n",
            "  Building wheel for hdfs (setup.py) ... \u001b[?25l\u001b[?25hdone\n",
            "  Created wheel for hdfs: filename=hdfs-2.7.3-py3-none-any.whl size=34325 sha256=186546a41d561c386e1ca56431c00a908fe75d659aece3d0a749f5b6327747e9\n",
            "  Stored in directory: /root/.cache/pip/wheels/e5/8d/b6/99c1c0a3ac5788c866b0ecd3f48b0134a5910e6ed26011800b\n",
            "  Building wheel for pyjsparser (setup.py) ... \u001b[?25l\u001b[?25hdone\n",
            "  Created wheel for pyjsparser: filename=pyjsparser-2.7.1-py3-none-any.whl size=25982 sha256=83e17543129b7eb4044b0f81f8eac4b60dfe41391878f424b424390cf8026ca5\n",
            "  Stored in directory: /root/.cache/pip/wheels/5e/81/26/5956478df303e2bf5a85a5df595bb307bd25948a4bab69f7c7\n",
            "  Building wheel for docopt (setup.py) ... \u001b[?25l\u001b[?25hdone\n",
            "  Created wheel for docopt: filename=docopt-0.6.2-py2.py3-none-any.whl size=13705 sha256=7656895d34ad7ab758a2a0ba94b610d1f926bc632846f1b06f546a3ff0127f79\n",
            "  Stored in directory: /root/.cache/pip/wheels/fc/ab/d4/5da2067ac95b36618c629a5f93f809425700506f72c9732fac\n",
            "Successfully built crcmod dill hdfs pyjsparser docopt\n",
            "Installing collected packages: pyjsparser, docopt, crcmod, zstandard, orjson, objsize, js2py, fasteners, fastavro, dnspython, dill, pymongo, hdfs, apache_beam\n",
            "Successfully installed apache_beam-2.51.0 crcmod-1.7 dill-0.3.1.1 dnspython-2.4.2 docopt-0.6.2 fastavro-1.8.4 fasteners-0.19 hdfs-2.7.3 js2py-0.74 objsize-0.6.1 orjson-3.9.9 pyjsparser-2.7.1 pymongo-4.5.0 zstandard-0.21.0\n"
          ]
        }
      ],
      "source": [
        "!pip install apache_beam"
      ]
    },
    {
      "cell_type": "markdown",
      "source": [
        "# Composite Transform and Pipeline with Windowed Triggers\n",
        "## Top 5 Most Watched Titles"
      ],
      "metadata": {
        "id": "tlR83jZILWwC"
      }
    },
    {
      "cell_type": "code",
      "source": [
        "from apache_beam.transforms.trigger import AfterProcessingTime\n",
        "import apache_beam as beam\n",
        "from apache_beam.runners.interactive.display import pipeline_graph\n",
        "from apache_beam.options.pipeline_options import PipelineOptions\n",
        "from apache_beam.transforms.combiners import Top\n",
        "from apache_beam.transforms.window import FixedWindows\n",
        "import graphviz\n",
        "\n",
        "def parse_csv(element):\n",
        "    fields = element.split(\",\")\n",
        "    return {\n",
        "        \"Profile Name\": fields[0],\n",
        "        \"Start Time\": fields[1],\n",
        "        \"Duration\": fields[2],\n",
        "        \"Title\": fields[4]\n",
        "    }\n",
        "\n",
        "def filter_duration(element):\n",
        "    duration = element[\"Duration\"].split(\":\")\n",
        "    minutes = int(duration[1])\n",
        "    seconds = int(duration[2])\n",
        "    return minutes > 1 or (minutes == 1 and seconds > 0)\n",
        "\n",
        "def get_title(element):\n",
        "    return element[\"Title\"], 1\n",
        "\n",
        "def format_result(title_count):\n",
        "    (title, count) = title_count\n",
        "    return f\"{title}: {count}\"\n",
        "\n",
        "def display_graph(pipeline):\n",
        "  graph = pipeline_graph.PipelineGraph(pipeline)\n",
        "  display(graphviz.Source(graph.get_dot()))\n",
        "\n",
        "\n",
        "options = PipelineOptions()\n",
        "with beam.Pipeline(options=options) as p:\n",
        "  (\n",
        "    p | \"Read from CSV\" >> beam.io.ReadFromText(\"All_ViewingActivity.csv\", skip_header_lines=1)\n",
        "      | \"Parse CSV\" >> beam.Map(parse_csv)\n",
        "      | \"Filter Duration\" >> beam.Filter(filter_duration)\n",
        "      | \"Extract Title\" >> beam.Map(get_title)\n",
        "      | \"Count Per Title\" >> beam.CombinePerKey(sum)\n",
        "      | \"Top 5 Titles\" >> Top.Of(5, key=lambda x: x[1])\n",
        "      | \"Flatten Results\" >> beam.FlatMap(lambda x: x)\n",
        "      | \"Format Result\" >> beam.Map(format_result)\n",
        "      | \"Window\" >> beam.WindowInto(\n",
        "        FixedWindows(3600),\n",
        "        trigger=AfterProcessingTime(600),  # Fire every 10 minutes (6 times per hour)\n",
        "        accumulation_mode=beam.transforms.trigger.AccumulationMode.ACCUMULATING)\n",
        "      | \"Print Results\" >> beam.Map(print)\n",
        "  )\n",
        "\n",
        "display_graph(p)"
      ],
      "metadata": {
        "colab": {
          "base_uri": "https://localhost:8080/",
          "height": 1000
        },
        "id": "Yplyo362J8ZW",
        "outputId": "869f74e7-6d0d-402a-dfb5-fdd771843941"
      },
      "execution_count": null,
      "outputs": [
        {
          "output_type": "stream",
          "name": "stderr",
          "text": [
            "WARNING:apache_beam.options.pipeline_options:Discarding unparseable args: ['-f', '/root/.local/share/jupyter/runtime/kernel-f4d2b04c-559e-4723-ad9f-f59b89ec0164.json']\n",
            "WARNING:apache_beam.options.pipeline_options:Discarding unparseable args: ['-f', '/root/.local/share/jupyter/runtime/kernel-f4d2b04c-559e-4723-ad9f-f59b89ec0164.json']\n"
          ]
        },
        {
          "output_type": "stream",
          "name": "stdout",
          "text": [
            "Minnal Murali: 37\n",
            "\"Demon Slayer: Kimetsu no Yaiba: Tanjiro Kamado: 37\n",
            "Red Notice: 21\n",
            "Jana Gana Mana: 19\n",
            "Don't Look Up: 19\n"
          ]
        },
        {
          "output_type": "display_data",
          "data": {
            "image/svg+xml": "<?xml version=\"1.0\" encoding=\"UTF-8\" standalone=\"no\"?>\n<!DOCTYPE svg PUBLIC \"-//W3C//DTD SVG 1.1//EN\"\n \"http://www.w3.org/Graphics/SVG/1.1/DTD/svg11.dtd\">\n<!-- Generated by graphviz version 2.43.0 (0)\n -->\n<!-- Title: G Pages: 1 -->\n<svg width=\"136pt\" height=\"1412pt\"\n viewBox=\"0.00 0.00 136.00 1412.00\" xmlns=\"http://www.w3.org/2000/svg\" xmlns:xlink=\"http://www.w3.org/1999/xlink\">\n<g id=\"graph0\" class=\"graph\" transform=\"scale(1 1) rotate(0) translate(4 1408)\">\n<title>G</title>\n<polygon fill=\"white\" stroke=\"transparent\" points=\"-4,4 -4,-1408 132,-1408 132,4 -4,4\"/>\n<!-- [5]: Read from CSV -->\n<g id=\"node1\" class=\"node\">\n<title>[5]: Read from CSV</title>\n<polygon fill=\"none\" stroke=\"blue\" points=\"128,-1404 0,-1404 0,-1368 128,-1368 128,-1404\"/>\n<text text-anchor=\"middle\" x=\"64\" y=\"-1382.3\" font-family=\"Times,serif\" font-size=\"14.00\" fill=\"blue\">[5]: Read from CSV</text>\n</g>\n<!-- pcoll225 -->\n<g id=\"node2\" class=\"node\">\n<title>pcoll225</title>\n<ellipse fill=\"none\" stroke=\"blue\" cx=\"64\" cy=\"-1314\" rx=\"18\" ry=\"18\"/>\n</g>\n<!-- [5]: Read from CSV&#45;&gt;pcoll225 -->\n<g id=\"edge1\" class=\"edge\">\n<title>[5]: Read from CSV&#45;&gt;pcoll225</title>\n<path fill=\"none\" stroke=\"black\" d=\"M64,-1367.7C64,-1359.98 64,-1350.71 64,-1342.11\"/>\n<polygon fill=\"black\" stroke=\"black\" points=\"67.5,-1342.1 64,-1332.1 60.5,-1342.1 67.5,-1342.1\"/>\n</g>\n<!-- [5]: Parse CSV -->\n<g id=\"node3\" class=\"node\">\n<title>[5]: Parse CSV</title>\n<polygon fill=\"none\" stroke=\"blue\" points=\"113.5,-1260 14.5,-1260 14.5,-1224 113.5,-1224 113.5,-1260\"/>\n<text text-anchor=\"middle\" x=\"64\" y=\"-1238.3\" font-family=\"Times,serif\" font-size=\"14.00\" fill=\"blue\">[5]: Parse CSV</text>\n</g>\n<!-- pcoll225&#45;&gt;[5]: Parse CSV -->\n<g id=\"edge2\" class=\"edge\">\n<title>pcoll225&#45;&gt;[5]: Parse CSV</title>\n<path fill=\"none\" stroke=\"black\" d=\"M64,-1295.7C64,-1287.98 64,-1278.71 64,-1270.11\"/>\n<polygon fill=\"black\" stroke=\"black\" points=\"67.5,-1270.1 64,-1260.1 60.5,-1270.1 67.5,-1270.1\"/>\n</g>\n<!-- pcoll210 -->\n<g id=\"node4\" class=\"node\">\n<title>pcoll210</title>\n<ellipse fill=\"none\" stroke=\"blue\" cx=\"64\" cy=\"-1170\" rx=\"18\" ry=\"18\"/>\n</g>\n<!-- [5]: Parse CSV&#45;&gt;pcoll210 -->\n<g id=\"edge3\" class=\"edge\">\n<title>[5]: Parse CSV&#45;&gt;pcoll210</title>\n<path fill=\"none\" stroke=\"black\" d=\"M64,-1223.7C64,-1215.98 64,-1206.71 64,-1198.11\"/>\n<polygon fill=\"black\" stroke=\"black\" points=\"67.5,-1198.1 64,-1188.1 60.5,-1198.1 67.5,-1198.1\"/>\n</g>\n<!-- [5]: Filter Duration -->\n<g id=\"node5\" class=\"node\">\n<title>[5]: Filter Duration</title>\n<polygon fill=\"none\" stroke=\"blue\" points=\"124.5,-1116 3.5,-1116 3.5,-1080 124.5,-1080 124.5,-1116\"/>\n<text text-anchor=\"middle\" x=\"64\" y=\"-1094.3\" font-family=\"Times,serif\" font-size=\"14.00\" fill=\"blue\">[5]: Filter Duration</text>\n</g>\n<!-- pcoll210&#45;&gt;[5]: Filter Duration -->\n<g id=\"edge4\" class=\"edge\">\n<title>pcoll210&#45;&gt;[5]: Filter Duration</title>\n<path fill=\"none\" stroke=\"black\" d=\"M64,-1151.7C64,-1143.98 64,-1134.71 64,-1126.11\"/>\n<polygon fill=\"black\" stroke=\"black\" points=\"67.5,-1126.1 64,-1116.1 60.5,-1126.1 67.5,-1126.1\"/>\n</g>\n<!-- pcoll5444 -->\n<g id=\"node6\" class=\"node\">\n<title>pcoll5444</title>\n<ellipse fill=\"none\" stroke=\"blue\" cx=\"64\" cy=\"-1026\" rx=\"18\" ry=\"18\"/>\n</g>\n<!-- [5]: Filter Duration&#45;&gt;pcoll5444 -->\n<g id=\"edge5\" class=\"edge\">\n<title>[5]: Filter Duration&#45;&gt;pcoll5444</title>\n<path fill=\"none\" stroke=\"black\" d=\"M64,-1079.7C64,-1071.98 64,-1062.71 64,-1054.11\"/>\n<polygon fill=\"black\" stroke=\"black\" points=\"67.5,-1054.1 64,-1044.1 60.5,-1054.1 67.5,-1054.1\"/>\n</g>\n<!-- [5]: Extract Title -->\n<g id=\"node7\" class=\"node\">\n<title>[5]: Extract Title</title>\n<polygon fill=\"none\" stroke=\"blue\" points=\"117.5,-972 10.5,-972 10.5,-936 117.5,-936 117.5,-972\"/>\n<text text-anchor=\"middle\" x=\"64\" y=\"-950.3\" font-family=\"Times,serif\" font-size=\"14.00\" fill=\"blue\">[5]: Extract Title</text>\n</g>\n<!-- pcoll5444&#45;&gt;[5]: Extract Title -->\n<g id=\"edge6\" class=\"edge\">\n<title>pcoll5444&#45;&gt;[5]: Extract Title</title>\n<path fill=\"none\" stroke=\"black\" d=\"M64,-1007.7C64,-999.98 64,-990.71 64,-982.11\"/>\n<polygon fill=\"black\" stroke=\"black\" points=\"67.5,-982.1 64,-972.1 60.5,-982.1 67.5,-982.1\"/>\n</g>\n<!-- pcoll2119 -->\n<g id=\"node8\" class=\"node\">\n<title>pcoll2119</title>\n<ellipse fill=\"none\" stroke=\"blue\" cx=\"64\" cy=\"-882\" rx=\"18\" ry=\"18\"/>\n</g>\n<!-- [5]: Extract Title&#45;&gt;pcoll2119 -->\n<g id=\"edge7\" class=\"edge\">\n<title>[5]: Extract Title&#45;&gt;pcoll2119</title>\n<path fill=\"none\" stroke=\"black\" d=\"M64,-935.7C64,-927.98 64,-918.71 64,-910.11\"/>\n<polygon fill=\"black\" stroke=\"black\" points=\"67.5,-910.1 64,-900.1 60.5,-910.1 67.5,-910.1\"/>\n</g>\n<!-- [5]: Count Per Title -->\n<g id=\"node9\" class=\"node\">\n<title>[5]: Count Per Title</title>\n<polygon fill=\"none\" stroke=\"blue\" points=\"125.5,-828 2.5,-828 2.5,-792 125.5,-792 125.5,-828\"/>\n<text text-anchor=\"middle\" x=\"64\" y=\"-806.3\" font-family=\"Times,serif\" font-size=\"14.00\" fill=\"blue\">[5]: Count Per Title</text>\n</g>\n<!-- pcoll2119&#45;&gt;[5]: Count Per Title -->\n<g id=\"edge8\" class=\"edge\">\n<title>pcoll2119&#45;&gt;[5]: Count Per Title</title>\n<path fill=\"none\" stroke=\"black\" d=\"M64,-863.7C64,-855.98 64,-846.71 64,-838.11\"/>\n<polygon fill=\"black\" stroke=\"black\" points=\"67.5,-838.1 64,-828.1 60.5,-838.1 67.5,-838.1\"/>\n</g>\n<!-- pcoll312 -->\n<g id=\"node10\" class=\"node\">\n<title>pcoll312</title>\n<ellipse fill=\"none\" stroke=\"blue\" cx=\"64\" cy=\"-738\" rx=\"18\" ry=\"18\"/>\n</g>\n<!-- [5]: Count Per Title&#45;&gt;pcoll312 -->\n<g id=\"edge9\" class=\"edge\">\n<title>[5]: Count Per Title&#45;&gt;pcoll312</title>\n<path fill=\"none\" stroke=\"black\" d=\"M64,-791.7C64,-783.98 64,-774.71 64,-766.11\"/>\n<polygon fill=\"black\" stroke=\"black\" points=\"67.5,-766.1 64,-756.1 60.5,-766.1 67.5,-766.1\"/>\n</g>\n<!-- [5]: Top 5 Titles -->\n<g id=\"node11\" class=\"node\">\n<title>[5]: Top 5 Titles</title>\n<polygon fill=\"none\" stroke=\"blue\" points=\"116,-684 12,-684 12,-648 116,-648 116,-684\"/>\n<text text-anchor=\"middle\" x=\"64\" y=\"-662.3\" font-family=\"Times,serif\" font-size=\"14.00\" fill=\"blue\">[5]: Top 5 Titles</text>\n</g>\n<!-- pcoll312&#45;&gt;[5]: Top 5 Titles -->\n<g id=\"edge10\" class=\"edge\">\n<title>pcoll312&#45;&gt;[5]: Top 5 Titles</title>\n<path fill=\"none\" stroke=\"black\" d=\"M64,-719.7C64,-711.98 64,-702.71 64,-694.11\"/>\n<polygon fill=\"black\" stroke=\"black\" points=\"67.5,-694.1 64,-684.1 60.5,-694.1 67.5,-694.1\"/>\n</g>\n<!-- pcoll9750 -->\n<g id=\"node12\" class=\"node\">\n<title>pcoll9750</title>\n<ellipse fill=\"none\" stroke=\"blue\" cx=\"64\" cy=\"-594\" rx=\"18\" ry=\"18\"/>\n</g>\n<!-- [5]: Top 5 Titles&#45;&gt;pcoll9750 -->\n<g id=\"edge11\" class=\"edge\">\n<title>[5]: Top 5 Titles&#45;&gt;pcoll9750</title>\n<path fill=\"none\" stroke=\"black\" d=\"M64,-647.7C64,-639.98 64,-630.71 64,-622.11\"/>\n<polygon fill=\"black\" stroke=\"black\" points=\"67.5,-622.1 64,-612.1 60.5,-622.1 67.5,-622.1\"/>\n</g>\n<!-- [5]: Flatten Results -->\n<g id=\"node13\" class=\"node\">\n<title>[5]: Flatten Results</title>\n<polygon fill=\"none\" stroke=\"blue\" points=\"124.5,-540 3.5,-540 3.5,-504 124.5,-504 124.5,-540\"/>\n<text text-anchor=\"middle\" x=\"64\" y=\"-518.3\" font-family=\"Times,serif\" font-size=\"14.00\" fill=\"blue\">[5]: Flatten Results</text>\n</g>\n<!-- pcoll9750&#45;&gt;[5]: Flatten Results -->\n<g id=\"edge12\" class=\"edge\">\n<title>pcoll9750&#45;&gt;[5]: Flatten Results</title>\n<path fill=\"none\" stroke=\"black\" d=\"M64,-575.7C64,-567.98 64,-558.71 64,-550.11\"/>\n<polygon fill=\"black\" stroke=\"black\" points=\"67.5,-550.1 64,-540.1 60.5,-550.1 67.5,-550.1\"/>\n</g>\n<!-- pcoll6768 -->\n<g id=\"node14\" class=\"node\">\n<title>pcoll6768</title>\n<ellipse fill=\"none\" stroke=\"blue\" cx=\"64\" cy=\"-450\" rx=\"18\" ry=\"18\"/>\n</g>\n<!-- [5]: Flatten Results&#45;&gt;pcoll6768 -->\n<g id=\"edge13\" class=\"edge\">\n<title>[5]: Flatten Results&#45;&gt;pcoll6768</title>\n<path fill=\"none\" stroke=\"black\" d=\"M64,-503.7C64,-495.98 64,-486.71 64,-478.11\"/>\n<polygon fill=\"black\" stroke=\"black\" points=\"67.5,-478.1 64,-468.1 60.5,-478.1 67.5,-478.1\"/>\n</g>\n<!-- [5]: Format Result -->\n<g id=\"node15\" class=\"node\">\n<title>[5]: Format Result</title>\n<polygon fill=\"none\" stroke=\"blue\" points=\"123,-396 5,-396 5,-360 123,-360 123,-396\"/>\n<text text-anchor=\"middle\" x=\"64\" y=\"-374.3\" font-family=\"Times,serif\" font-size=\"14.00\" fill=\"blue\">[5]: Format Result</text>\n</g>\n<!-- pcoll6768&#45;&gt;[5]: Format Result -->\n<g id=\"edge14\" class=\"edge\">\n<title>pcoll6768&#45;&gt;[5]: Format Result</title>\n<path fill=\"none\" stroke=\"black\" d=\"M64,-431.7C64,-423.98 64,-414.71 64,-406.11\"/>\n<polygon fill=\"black\" stroke=\"black\" points=\"67.5,-406.1 64,-396.1 60.5,-406.1 67.5,-406.1\"/>\n</g>\n<!-- pcoll3842 -->\n<g id=\"node16\" class=\"node\">\n<title>pcoll3842</title>\n<ellipse fill=\"none\" stroke=\"blue\" cx=\"64\" cy=\"-306\" rx=\"18\" ry=\"18\"/>\n</g>\n<!-- [5]: Format Result&#45;&gt;pcoll3842 -->\n<g id=\"edge15\" class=\"edge\">\n<title>[5]: Format Result&#45;&gt;pcoll3842</title>\n<path fill=\"none\" stroke=\"black\" d=\"M64,-359.7C64,-351.98 64,-342.71 64,-334.11\"/>\n<polygon fill=\"black\" stroke=\"black\" points=\"67.5,-334.1 64,-324.1 60.5,-334.1 67.5,-334.1\"/>\n</g>\n<!-- [5]: Window -->\n<g id=\"node17\" class=\"node\">\n<title>[5]: Window</title>\n<polygon fill=\"none\" stroke=\"blue\" points=\"107,-252 21,-252 21,-216 107,-216 107,-252\"/>\n<text text-anchor=\"middle\" x=\"64\" y=\"-230.3\" font-family=\"Times,serif\" font-size=\"14.00\" fill=\"blue\">[5]: Window</text>\n</g>\n<!-- pcoll3842&#45;&gt;[5]: Window -->\n<g id=\"edge16\" class=\"edge\">\n<title>pcoll3842&#45;&gt;[5]: Window</title>\n<path fill=\"none\" stroke=\"black\" d=\"M64,-287.7C64,-279.98 64,-270.71 64,-262.11\"/>\n<polygon fill=\"black\" stroke=\"black\" points=\"67.5,-262.1 64,-252.1 60.5,-262.1 67.5,-262.1\"/>\n</g>\n<!-- pcoll4659 -->\n<g id=\"node18\" class=\"node\">\n<title>pcoll4659</title>\n<ellipse fill=\"none\" stroke=\"blue\" cx=\"64\" cy=\"-162\" rx=\"18\" ry=\"18\"/>\n</g>\n<!-- [5]: Window&#45;&gt;pcoll4659 -->\n<g id=\"edge17\" class=\"edge\">\n<title>[5]: Window&#45;&gt;pcoll4659</title>\n<path fill=\"none\" stroke=\"black\" d=\"M64,-215.7C64,-207.98 64,-198.71 64,-190.11\"/>\n<polygon fill=\"black\" stroke=\"black\" points=\"67.5,-190.1 64,-180.1 60.5,-190.1 67.5,-190.1\"/>\n</g>\n<!-- [5]: Print Results -->\n<g id=\"node19\" class=\"node\">\n<title>[5]: Print Results</title>\n<polygon fill=\"none\" stroke=\"blue\" points=\"119,-108 9,-108 9,-72 119,-72 119,-108\"/>\n<text text-anchor=\"middle\" x=\"64\" y=\"-86.3\" font-family=\"Times,serif\" font-size=\"14.00\" fill=\"blue\">[5]: Print Results</text>\n</g>\n<!-- pcoll4659&#45;&gt;[5]: Print Results -->\n<g id=\"edge18\" class=\"edge\">\n<title>pcoll4659&#45;&gt;[5]: Print Results</title>\n<path fill=\"none\" stroke=\"black\" d=\"M64,-143.7C64,-135.98 64,-126.71 64,-118.11\"/>\n<polygon fill=\"black\" stroke=\"black\" points=\"67.5,-118.1 64,-108.1 60.5,-118.1 67.5,-118.1\"/>\n</g>\n<!-- pcoll7174 -->\n<g id=\"node20\" class=\"node\">\n<title>pcoll7174</title>\n<ellipse fill=\"none\" stroke=\"blue\" cx=\"64\" cy=\"-18\" rx=\"18\" ry=\"18\"/>\n</g>\n<!-- [5]: Print Results&#45;&gt;pcoll7174 -->\n<g id=\"edge19\" class=\"edge\">\n<title>[5]: Print Results&#45;&gt;pcoll7174</title>\n<path fill=\"none\" stroke=\"black\" d=\"M64,-71.7C64,-63.98 64,-54.71 64,-46.11\"/>\n<polygon fill=\"black\" stroke=\"black\" points=\"67.5,-46.1 64,-36.1 60.5,-46.1 67.5,-46.1\"/>\n</g>\n</g>\n</svg>\n",
            "text/plain": [
              "<graphviz.sources.Source at 0x7e440b688040>"
            ]
          },
          "metadata": {}
        }
      ]
    },
    {
      "cell_type": "markdown",
      "source": [
        "# Composite Transform and Pipeline using ParDo\n",
        "## Count views per year month"
      ],
      "metadata": {
        "id": "QKk1_v0lPCnx"
      }
    },
    {
      "cell_type": "code",
      "source": [
        "from apache_beam import DoFn, PTransform, ParDo, Map, CombinePerKey\n",
        "from apache_beam.io import ReadFromText\n",
        "from apache_beam.options.pipeline_options import PipelineOptions\n",
        "\n",
        "class ExtractMonthYearFn(DoFn):\n",
        "    def process(self, element):\n",
        "        date_parts = element[\"Start Time\"].split(\"-\")\n",
        "        year, month = date_parts[0], date_parts[1]\n",
        "        element[\"Year\"] = year\n",
        "        element[\"Month\"] = month\n",
        "        return [element]\n",
        "\n",
        "class FormatCountsFn(DoFn):\n",
        "    def process(self, element):\n",
        "        year_month, count = element\n",
        "        year, month = year_month\n",
        "        return [f\"{month}-{year}: {count} views\"]\n",
        "\n",
        "with beam.Pipeline(options=PipelineOptions()) as p:\n",
        "    (\n",
        "        p\n",
        "        | \"Read from CSV\" >> ReadFromText(\"All_ViewingActivity.csv\", skip_header_lines=1)\n",
        "        | \"Parse CSV\" >> Map(parse_csv)  # Assuming parse_csv is the function you have for parsing\n",
        "        | \"Extract Month and Year\" >> ParDo(ExtractMonthYearFn())\n",
        "        | \"Create Year-Month Key\" >> Map(lambda x: ((x[\"Year\"], x[\"Month\"]), 1))\n",
        "        | \"Count Views Per Year-Month\" >> CombinePerKey(sum)\n",
        "        | \"Format Results\" >> ParDo(FormatCountsFn())\n",
        "        | \"Print Results\" >> Map(print)\n",
        "    )\n",
        "\n",
        "display_graph(p)"
      ],
      "metadata": {
        "colab": {
          "base_uri": "https://localhost:8080/",
          "height": 1000
        },
        "id": "UQ-6WNFiPHjh",
        "outputId": "82e771d6-2a26-4602-adcf-b196c3b1bab6"
      },
      "execution_count": null,
      "outputs": [
        {
          "output_type": "stream",
          "name": "stderr",
          "text": [
            "WARNING:apache_beam.options.pipeline_options:Discarding unparseable args: ['-f', '/root/.local/share/jupyter/runtime/kernel-f4d2b04c-559e-4723-ad9f-f59b89ec0164.json']\n",
            "WARNING:apache_beam.options.pipeline_options:Discarding unparseable args: ['-f', '/root/.local/share/jupyter/runtime/kernel-f4d2b04c-559e-4723-ad9f-f59b89ec0164.json']\n"
          ]
        },
        {
          "output_type": "stream",
          "name": "stdout",
          "text": [
            "04-2022: 901 views\n",
            "01-2022: 637 views\n",
            "12-2021: 487 views\n",
            "11-2022: 397 views\n",
            "09-2022: 250 views\n",
            "08-2022: 643 views\n",
            "07-2022: 443 views\n",
            "05-2022: 420 views\n",
            "11-2021: 129 views\n",
            "06-2022: 958 views\n",
            "03-2022: 686 views\n",
            "02-2022: 926 views\n",
            "10-2021: 6 views\n",
            "10-2022: 301 views\n",
            "06-2023: 281 views\n",
            "05-2023: 558 views\n",
            "04-2023: 485 views\n",
            "03-2023: 335 views\n",
            "02-2023: 440 views\n",
            "01-2023: 523 views\n",
            "12-2022: 186 views\n"
          ]
        },
        {
          "output_type": "display_data",
          "data": {
            "image/svg+xml": "<?xml version=\"1.0\" encoding=\"UTF-8\" standalone=\"no\"?>\n<!DOCTYPE svg PUBLIC \"-//W3C//DTD SVG 1.1//EN\"\n \"http://www.w3.org/Graphics/SVG/1.1/DTD/svg11.dtd\">\n<!-- Generated by graphviz version 2.43.0 (0)\n -->\n<!-- Title: G Pages: 1 -->\n<svg width=\"209pt\" height=\"980pt\"\n viewBox=\"0.00 0.00 209.00 980.00\" xmlns=\"http://www.w3.org/2000/svg\" xmlns:xlink=\"http://www.w3.org/1999/xlink\">\n<g id=\"graph0\" class=\"graph\" transform=\"scale(1 1) rotate(0) translate(4 976)\">\n<title>G</title>\n<polygon fill=\"white\" stroke=\"transparent\" points=\"-4,4 -4,-976 205,-976 205,4 -4,4\"/>\n<!-- [6]: Read from CSV -->\n<g id=\"node1\" class=\"node\">\n<title>[6]: Read from CSV</title>\n<polygon fill=\"none\" stroke=\"blue\" points=\"164.5,-972 36.5,-972 36.5,-936 164.5,-936 164.5,-972\"/>\n<text text-anchor=\"middle\" x=\"100.5\" y=\"-950.3\" font-family=\"Times,serif\" font-size=\"14.00\" fill=\"blue\">[6]: Read from CSV</text>\n</g>\n<!-- pcoll225 -->\n<g id=\"node2\" class=\"node\">\n<title>pcoll225</title>\n<ellipse fill=\"none\" stroke=\"blue\" cx=\"100.5\" cy=\"-882\" rx=\"18\" ry=\"18\"/>\n</g>\n<!-- [6]: Read from CSV&#45;&gt;pcoll225 -->\n<g id=\"edge1\" class=\"edge\">\n<title>[6]: Read from CSV&#45;&gt;pcoll225</title>\n<path fill=\"none\" stroke=\"black\" d=\"M100.5,-935.7C100.5,-927.98 100.5,-918.71 100.5,-910.11\"/>\n<polygon fill=\"black\" stroke=\"black\" points=\"104,-910.1 100.5,-900.1 97,-910.1 104,-910.1\"/>\n</g>\n<!-- [6]: Parse CSV -->\n<g id=\"node3\" class=\"node\">\n<title>[6]: Parse CSV</title>\n<polygon fill=\"none\" stroke=\"blue\" points=\"150,-828 51,-828 51,-792 150,-792 150,-828\"/>\n<text text-anchor=\"middle\" x=\"100.5\" y=\"-806.3\" font-family=\"Times,serif\" font-size=\"14.00\" fill=\"blue\">[6]: Parse CSV</text>\n</g>\n<!-- pcoll225&#45;&gt;[6]: Parse CSV -->\n<g id=\"edge2\" class=\"edge\">\n<title>pcoll225&#45;&gt;[6]: Parse CSV</title>\n<path fill=\"none\" stroke=\"black\" d=\"M100.5,-863.7C100.5,-855.98 100.5,-846.71 100.5,-838.11\"/>\n<polygon fill=\"black\" stroke=\"black\" points=\"104,-838.1 100.5,-828.1 97,-838.1 104,-838.1\"/>\n</g>\n<!-- pcoll210 -->\n<g id=\"node4\" class=\"node\">\n<title>pcoll210</title>\n<ellipse fill=\"none\" stroke=\"blue\" cx=\"100.5\" cy=\"-738\" rx=\"18\" ry=\"18\"/>\n</g>\n<!-- [6]: Parse CSV&#45;&gt;pcoll210 -->\n<g id=\"edge3\" class=\"edge\">\n<title>[6]: Parse CSV&#45;&gt;pcoll210</title>\n<path fill=\"none\" stroke=\"black\" d=\"M100.5,-791.7C100.5,-783.98 100.5,-774.71 100.5,-766.11\"/>\n<polygon fill=\"black\" stroke=\"black\" points=\"104,-766.1 100.5,-756.1 97,-766.1 104,-766.1\"/>\n</g>\n<!-- [6]: Extract Month and Year -->\n<g id=\"node5\" class=\"node\">\n<title>[6]: Extract Month and Year</title>\n<polygon fill=\"none\" stroke=\"blue\" points=\"186,-684 15,-684 15,-648 186,-648 186,-684\"/>\n<text text-anchor=\"middle\" x=\"100.5\" y=\"-662.3\" font-family=\"Times,serif\" font-size=\"14.00\" fill=\"blue\">[6]: Extract Month and Year</text>\n</g>\n<!-- pcoll210&#45;&gt;[6]: Extract Month and Year -->\n<g id=\"edge4\" class=\"edge\">\n<title>pcoll210&#45;&gt;[6]: Extract Month and Year</title>\n<path fill=\"none\" stroke=\"black\" d=\"M100.5,-719.7C100.5,-711.98 100.5,-702.71 100.5,-694.11\"/>\n<polygon fill=\"black\" stroke=\"black\" points=\"104,-694.1 100.5,-684.1 97,-694.1 104,-694.1\"/>\n</g>\n<!-- pcoll5444 -->\n<g id=\"node6\" class=\"node\">\n<title>pcoll5444</title>\n<ellipse fill=\"none\" stroke=\"blue\" cx=\"100.5\" cy=\"-594\" rx=\"18\" ry=\"18\"/>\n</g>\n<!-- [6]: Extract Month and Year&#45;&gt;pcoll5444 -->\n<g id=\"edge5\" class=\"edge\">\n<title>[6]: Extract Month and Year&#45;&gt;pcoll5444</title>\n<path fill=\"none\" stroke=\"black\" d=\"M100.5,-647.7C100.5,-639.98 100.5,-630.71 100.5,-622.11\"/>\n<polygon fill=\"black\" stroke=\"black\" points=\"104,-622.1 100.5,-612.1 97,-622.1 104,-622.1\"/>\n</g>\n<!-- [6]: Create Year&#45;Month Key -->\n<g id=\"node7\" class=\"node\">\n<title>[6]: Create Year&#45;Month Key</title>\n<polygon fill=\"none\" stroke=\"blue\" points=\"186,-540 15,-540 15,-504 186,-504 186,-540\"/>\n<text text-anchor=\"middle\" x=\"100.5\" y=\"-518.3\" font-family=\"Times,serif\" font-size=\"14.00\" fill=\"blue\">[6]: Create Year&#45;Month Key</text>\n</g>\n<!-- pcoll5444&#45;&gt;[6]: Create Year&#45;Month Key -->\n<g id=\"edge6\" class=\"edge\">\n<title>pcoll5444&#45;&gt;[6]: Create Year&#45;Month Key</title>\n<path fill=\"none\" stroke=\"black\" d=\"M100.5,-575.7C100.5,-567.98 100.5,-558.71 100.5,-550.11\"/>\n<polygon fill=\"black\" stroke=\"black\" points=\"104,-550.1 100.5,-540.1 97,-550.1 104,-550.1\"/>\n</g>\n<!-- pcoll2119 -->\n<g id=\"node8\" class=\"node\">\n<title>pcoll2119</title>\n<ellipse fill=\"none\" stroke=\"blue\" cx=\"100.5\" cy=\"-450\" rx=\"18\" ry=\"18\"/>\n</g>\n<!-- [6]: Create Year&#45;Month Key&#45;&gt;pcoll2119 -->\n<g id=\"edge7\" class=\"edge\">\n<title>[6]: Create Year&#45;Month Key&#45;&gt;pcoll2119</title>\n<path fill=\"none\" stroke=\"black\" d=\"M100.5,-503.7C100.5,-495.98 100.5,-486.71 100.5,-478.11\"/>\n<polygon fill=\"black\" stroke=\"black\" points=\"104,-478.1 100.5,-468.1 97,-478.1 104,-478.1\"/>\n</g>\n<!-- [6]: Count Views Per Year&#45;Month -->\n<g id=\"node9\" class=\"node\">\n<title>[6]: Count Views Per Year&#45;Month</title>\n<polygon fill=\"none\" stroke=\"blue\" points=\"201,-396 0,-396 0,-360 201,-360 201,-396\"/>\n<text text-anchor=\"middle\" x=\"100.5\" y=\"-374.3\" font-family=\"Times,serif\" font-size=\"14.00\" fill=\"blue\">[6]: Count Views Per Year&#45;Month</text>\n</g>\n<!-- pcoll2119&#45;&gt;[6]: Count Views Per Year&#45;Month -->\n<g id=\"edge8\" class=\"edge\">\n<title>pcoll2119&#45;&gt;[6]: Count Views Per Year&#45;Month</title>\n<path fill=\"none\" stroke=\"black\" d=\"M100.5,-431.7C100.5,-423.98 100.5,-414.71 100.5,-406.11\"/>\n<polygon fill=\"black\" stroke=\"black\" points=\"104,-406.1 100.5,-396.1 97,-406.1 104,-406.1\"/>\n</g>\n<!-- pcoll312 -->\n<g id=\"node10\" class=\"node\">\n<title>pcoll312</title>\n<ellipse fill=\"none\" stroke=\"blue\" cx=\"100.5\" cy=\"-306\" rx=\"18\" ry=\"18\"/>\n</g>\n<!-- [6]: Count Views Per Year&#45;Month&#45;&gt;pcoll312 -->\n<g id=\"edge9\" class=\"edge\">\n<title>[6]: Count Views Per Year&#45;Month&#45;&gt;pcoll312</title>\n<path fill=\"none\" stroke=\"black\" d=\"M100.5,-359.7C100.5,-351.98 100.5,-342.71 100.5,-334.11\"/>\n<polygon fill=\"black\" stroke=\"black\" points=\"104,-334.1 100.5,-324.1 97,-334.1 104,-334.1\"/>\n</g>\n<!-- [6]: Format Results -->\n<g id=\"node11\" class=\"node\">\n<title>[6]: Format Results</title>\n<polygon fill=\"none\" stroke=\"blue\" points=\"162,-252 39,-252 39,-216 162,-216 162,-252\"/>\n<text text-anchor=\"middle\" x=\"100.5\" y=\"-230.3\" font-family=\"Times,serif\" font-size=\"14.00\" fill=\"blue\">[6]: Format Results</text>\n</g>\n<!-- pcoll312&#45;&gt;[6]: Format Results -->\n<g id=\"edge10\" class=\"edge\">\n<title>pcoll312&#45;&gt;[6]: Format Results</title>\n<path fill=\"none\" stroke=\"black\" d=\"M100.5,-287.7C100.5,-279.98 100.5,-270.71 100.5,-262.11\"/>\n<polygon fill=\"black\" stroke=\"black\" points=\"104,-262.1 100.5,-252.1 97,-262.1 104,-262.1\"/>\n</g>\n<!-- pcoll3583 -->\n<g id=\"node12\" class=\"node\">\n<title>pcoll3583</title>\n<ellipse fill=\"none\" stroke=\"blue\" cx=\"100.5\" cy=\"-162\" rx=\"18\" ry=\"18\"/>\n</g>\n<!-- [6]: Format Results&#45;&gt;pcoll3583 -->\n<g id=\"edge11\" class=\"edge\">\n<title>[6]: Format Results&#45;&gt;pcoll3583</title>\n<path fill=\"none\" stroke=\"black\" d=\"M100.5,-215.7C100.5,-207.98 100.5,-198.71 100.5,-190.11\"/>\n<polygon fill=\"black\" stroke=\"black\" points=\"104,-190.1 100.5,-180.1 97,-190.1 104,-190.1\"/>\n</g>\n<!-- [6]: Print Results -->\n<g id=\"node13\" class=\"node\">\n<title>[6]: Print Results</title>\n<polygon fill=\"none\" stroke=\"blue\" points=\"155.5,-108 45.5,-108 45.5,-72 155.5,-72 155.5,-108\"/>\n<text text-anchor=\"middle\" x=\"100.5\" y=\"-86.3\" font-family=\"Times,serif\" font-size=\"14.00\" fill=\"blue\">[6]: Print Results</text>\n</g>\n<!-- pcoll3583&#45;&gt;[6]: Print Results -->\n<g id=\"edge12\" class=\"edge\">\n<title>pcoll3583&#45;&gt;[6]: Print Results</title>\n<path fill=\"none\" stroke=\"black\" d=\"M100.5,-143.7C100.5,-135.98 100.5,-126.71 100.5,-118.11\"/>\n<polygon fill=\"black\" stroke=\"black\" points=\"104,-118.1 100.5,-108.1 97,-118.1 104,-118.1\"/>\n</g>\n<!-- pcoll538 -->\n<g id=\"node14\" class=\"node\">\n<title>pcoll538</title>\n<ellipse fill=\"none\" stroke=\"blue\" cx=\"100.5\" cy=\"-18\" rx=\"18\" ry=\"18\"/>\n</g>\n<!-- [6]: Print Results&#45;&gt;pcoll538 -->\n<g id=\"edge13\" class=\"edge\">\n<title>[6]: Print Results&#45;&gt;pcoll538</title>\n<path fill=\"none\" stroke=\"black\" d=\"M100.5,-71.7C100.5,-63.98 100.5,-54.71 100.5,-46.11\"/>\n<polygon fill=\"black\" stroke=\"black\" points=\"104,-46.1 100.5,-36.1 97,-46.1 104,-46.1\"/>\n</g>\n</g>\n</svg>\n",
            "text/plain": [
              "<graphviz.sources.Source at 0x7e440b39b190>"
            ]
          },
          "metadata": {}
        }
      ]
    }
  ]
}